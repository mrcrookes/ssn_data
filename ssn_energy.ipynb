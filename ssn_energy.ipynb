{
 "cells": [
  {
   "cell_type": "code",
   "execution_count": 65,
   "id": "172cba0e",
   "metadata": {},
   "outputs": [],
   "source": [
    "# Import key librarys\n",
    "import pandas as pd\n",
    "import numpy as np\n",
    "\n",
    "import os\n",
    "import glob\n",
    "\n",
    "import re"
   ]
  },
  {
   "cell_type": "markdown",
   "id": "df2c75ef",
   "metadata": {},
   "source": [
    "## Main code"
   ]
  },
  {
   "cell_type": "code",
   "execution_count": 66,
   "id": "4b1994dc",
   "metadata": {},
   "outputs": [],
   "source": [
    "# # Extract organisation name and year from filenames\n",
    "\n",
    "# rorgs = []\n",
    "# ryears = []\n",
    "\n",
    "# for f in xlsx_files:\n",
    "    \n",
    "#     # Get filename after / character\n",
    "#     filename = f.split('/')[-1]\n",
    "    \n",
    "#     # Look for numbers in filename\n",
    "#     num = re.findall(r'\\d+', filename)\n",
    "    \n",
    "#     for n in num:\n",
    "        \n",
    "#         # If number more than 3 characters assume it is a year \n",
    "#         if len(n) > 3:\n",
    "           \n",
    "#             # Append to list of years\n",
    "#             ryears.append(n)\n",
    "    \n",
    "#     # Look at filename before ' 2' and ' CCR' and assume is org\n",
    "#     s = filename.split(' 2', 1)[0]\n",
    "#     s = s.split(' - Climate Change Duties annual report', 1)[0]\n",
    "#     s = s.split(' CCR', 1)[0]\n",
    "    \n",
    "#     # Append to list of orgs\n",
    "#     rorgs.append(s)\n",
    "    \n",
    "# print(rorgs)\n",
    "# print(ryears)"
   ]
  },
  {
   "cell_type": "code",
   "execution_count": 108,
   "id": "f0fa58f3",
   "metadata": {},
   "outputs": [],
   "source": [
    "def find_details(f):\n",
    "\n",
    "    # Get filename after / character\n",
    "    filename = f.split('/')[-1]\n",
    "    \n",
    "    # Look for numbers in filename\n",
    "    num = re.findall(r'\\d+', filename)\n",
    "    \n",
    "    for n in num:\n",
    "        \n",
    "        # If number more than 3 characters assume it is a year \n",
    "        if len(n) > 3:\n",
    "           \n",
    "            # Set year to n\n",
    "            year = n\n",
    "    \n",
    "    # Look at filename before ' 2' and ' CCR' and assume is org\n",
    "    s = filename.split(' 2', 1)[0]\n",
    "    s = s.split(' - Climate Change Duties annual report', 1)[0]\n",
    "    s = s.split(' CCR', 1)[0]\n",
    "    \n",
    "    # Set org to s\n",
    "    org = s\n",
    "    \n",
    "    return org, year\n",
    "\n",
    "# Creating a function which will remove extra leading and tailing whitespace from the data.\n",
    "# Credit www.geeksforgeeks.org\n",
    "def whitespace_remover(df):\n",
    "   \n",
    "    # iterating over the columns\n",
    "    for i in df.columns:\n",
    "         \n",
    "        # checking datatype of each columns\n",
    "        if df[i].dtype == 'object':\n",
    "             \n",
    "            # applying strip function on column\n",
    "            df[i] = df[i].str.strip()\n",
    "        \n",
    "        else:\n",
    "             \n",
    "            # if conditition is False then it will do nothing.\n",
    "            pass\n",
    "        \n",
    "def get_sheet(f):\n",
    "    \n",
    "    # Get list of sheet names\n",
    "    sheet_names = pd.ExcelFile(f).sheet_names\n",
    "    \n",
    "    # Check type of template\n",
    "    if len(sheet_names) > 5:\n",
    "        \n",
    "        # Define sheet number\n",
    "        nsheet = 3\n",
    "        \n",
    "    else:\n",
    "        \n",
    "        nsheet = 0\n",
    "        \n",
    "    # Read in sheet 4\n",
    "    df = pd.read_excel(f, sheet_name = sheet_names[nsheet])\n",
    "    \n",
    "    # Remove whitespace\n",
    "    whitespace_remover(df)\n",
    "        \n",
    "    # Look for full match of header in df and return index\n",
    "    header = 'Emission source'\n",
    "    index = df[df.apply(lambda row: row.astype(str).str.fullmatch(header).any(), axis = 1)].index[0]\n",
    "    \n",
    "    # Read in sheet using header row\n",
    "    df = pd.read_excel(f, sheet_name = sheet_names[nsheet], skiprows = index + 1, dtype = 'object')\n",
    "    \n",
    "    # Find location of useful columns\n",
    "    a = df.columns.get_loc('Emission source')\n",
    "    b = df.columns.get_loc('Scope')\n",
    "    c = df.columns.get_loc('Consumption data')\n",
    "    d = df.columns.get_loc('Units')\n",
    "    e = df.columns.get_loc('Emission factor')\n",
    "    f = df.columns.get_loc('Units.1')\n",
    "    g = df.columns.get_loc('Emissions (tCO2e)')\n",
    "    h = df.columns.get_loc('Comments')\n",
    "    \n",
    "    # Select important columns\n",
    "    df = df.iloc[:, [a, b, c, d, e, f, g, h]]\n",
    "    \n",
    "    # Replace Blank values with NaN\n",
    "    df = df.replace(r'^\\s*$', np.nan, regex=True)\n",
    "    \n",
    "    return df\n",
    "    \n",
    "def sort_names_end(df):\n",
    "    \n",
    "    # Replace Blank values with NaN\n",
    "    df = df.replace(r'^\\s*$', np.nan, regex=True)\n",
    "    \n",
    "    # Remove any line breaks\n",
    "    df = df.replace(r'\\n',' ', regex = True) \n",
    "    \n",
    "    # Replace dodgy substrings in Emission source column\n",
    "    df['Emission source'] = df['Emission source'].str.replace('&amp;', '&')\n",
    "    df['Emission source'] = df['Emission source'].str.replace('&;', '&')\n",
    "    df['Emission source'] = df['Emission source'].str.replace('–', '-')\n",
    "    df['Emission source'] = df['Emission source'].str.replace(' and ', ' & ')\n",
    "    df['Emission source'] = df['Emission source'].str.replace('  ', ' ')\n",
    "    \n",
    "    df['Comments'] = df['Comments'].str.replace(';', ',', regex = False)\n",
    "    \n",
    "    df['Emission source'] = df['Emission source'].str.replace('average', 'Average')\n",
    "    \n",
    "    df['Emission source'] = df['Emission source'].str.replace(' (grey)', '', regex = False)\n",
    "    \n",
    "    df['Emission source'] = df['Emission source'].str.replace(' kWh', '')\n",
    "    df['Emission source'] = df['Emission source'].str.replace('kWh', '')\n",
    "    df['Emission source'] = df['Emission source'].str.replace(' tonnes', '')\n",
    "    df['Emission source'] = df['Emission source'].str.replace(' litre', '')\n",
    "    df['Emission source'] = df['Emission source'].str.replace(' litres', '')\n",
    "    \n",
    "    df['Emission source'] = df['Emission source'].str.replace(' km', '')\n",
    "    df['Emission source'] = df['Emission source'].str.replace(' mileage', '')\n",
    "    df['Emission source'] = df['Emission source'].str.replace(' miles', '')\n",
    "    \n",
    "    df['Emission source'] = df['Emission source'].str.replace('diesel', 'Diesel')\n",
    "    df['Emission source'] = df['Emission source'].str.replace('hybrid', 'Hybrid')\n",
    "    df['Emission source'] = df['Emission source'].str.replace('petrol', 'Petrol')\n",
    "    df['Emission source'] = df['Emission source'].str.replace('oil', 'Oil')\n",
    "    df['Emission source'] = df['Emission source'].str.replace('Oils', 'Oil')\n",
    "    \n",
    "    # Replace dodgy substrings in Units column\n",
    "    df['Units'] = df['Units'].replace('Klms', 'km')\n",
    "    df['Units'] = df['Units'].replace('M2', 'm3')\n",
    "    df['Units'] = df['Units'].replace('Miles', 'miles')\n",
    "    df['Units'] = df['Units'].replace('Litres', 'litres')\n",
    "    df['Units'] = df['Units'].replace('Tonnes', 'tonnes')\n",
    "    \n",
    "    # Replace dodgy substrings in Units column\n",
    "    df['Units.1'] = df['Units.1'].replace('kgCO2e/tonne', 'kg CO2e/tonne')\n",
    "    df['Units.1'] = df['Units.1'].replace('kgCO2e/km', 'kg CO2e/km')\n",
    "    df['Units.1'] = df['Units.1'].replace('kg CO2e/ km', 'kg CO2e/km')\n",
    "    df['Units.1'] = df['Units.1'].replace('kg CO2e/ mile', 'kg CO2e/mile')\n",
    "\n",
    "    # Replace conditional formatting messages with NaN\n",
    "    df = df.replace('Please select from drop down box', np.nan)\n",
    "    #df = df.replace('Other (please specify in comments)', np.nan)\n",
    "\n",
    "    # Replace dodgy names\n",
    "    df = df.replace('Biomass Wood Chips', 'Biomass (Wood Chips)')\n",
    "    df = df.replace('Biomass Wood Pellets', 'Biomass (Wood Pellets)')\n",
    "    df = df.replace('Biomass (wood chips)', 'Biomass (Wood Chips)')\n",
    "    df = df.replace('Biomass (Wood chips)', 'Biomass (Wood Chips)')\n",
    "    df = df.replace('Diesel (100%) mineral Diesel', 'Diesel (100% mineral Diesel)')\n",
    "    df = df.replace('LPGs', 'LPG')\n",
    "    df = df.replace('Gas oil (buildings) Littlemill PS', 'Gas oil')\n",
    "    df = df.replace('Gas oil (buildings) Sorn PS', 'Gas oil')\n",
    "    df = df.replace('Burning Oil (Kerosene)s', 'Burning Oil (Kerosene)')\n",
    "    \n",
    "    df = df.replace('WEEE (mixed recycling)', 'WEEE (Mixed) Recycling')\n",
    "    df = df.replace('Other WEEE -IT reuse', 'Other WEEE - IT reuse')\n",
    "    \n",
    "    df = df.replace('Refuse Municipal /Commercial /Industrial to Combustion', \n",
    "                        'Refuse Municipal & Commercial & Industrial to Combustion')\n",
    "    df = df.replace('General waste to landfill', \n",
    "                        'Refuse Commercial & Industrial to Landfill')\n",
    "    \n",
    "    df = df.replace('International flights (Economy Class)', 'Long-haul flights (Economy Class)')\n",
    "    df = df.replace('Domestic flight (Average passenger)', 'Short-haul flights (Economy Class)')\n",
    "    \n",
    "    # Correct orgs names\n",
    "    df['Organisation'] = df['Organisation'].replace('Abshire', 'Aberdeenshire Council')\n",
    "    df['Organisation'] = df['Organisation'].replace('Adeen City', 'Aberdeen City Council')\n",
    "    df['Organisation'] = df['Organisation'].replace('City of Edinburgh', 'City of Edinburgh Council')\n",
    "    df['Organisation'] = df['Organisation'].replace('CCPBD City of Edinburgh Council',\n",
    "                                                    'City of Edinburgh Council')\n",
    "    df['Organisation'] = df['Organisation'].replace('Clackmananshire Council', 'Clackmannanshire Council')\n",
    "    df['Organisation'] = df['Organisation'].replace('Clacks', 'Clackmannanshire Council')\n",
    "    df['Organisation'] = df['Organisation'].replace('Comhairlie nan Eilean Siar', 'Comhairle nan Eilean Siar')\n",
    "    df['Organisation'] = df['Organisation'].replace('CNES W.Isles', 'Comhairle nan Eilean Siar')\n",
    "    df['Organisation'] = df['Organisation'].replace('Dumfries and Galloway Council', \n",
    "                                                    'Dumfries & Galloway Council')\n",
    "    df['Organisation'] = df['Organisation'].replace('Dumfries & Galloway council', \n",
    "                                                    'Dumfries & Galloway Council')\n",
    "    df['Organisation'] = df['Organisation'].replace('Dundee', 'Dundee City Council')\n",
    "    df['Organisation'] = df['Organisation'].replace('Dundee City Council Public', 'Dundee City Council')\n",
    "    df['Organisation'] = df['Organisation'].replace('EDC', 'East Dunbartonshire Council')\n",
    "    df['Organisation'] = df['Organisation'].replace('East Dunbartonshire Council Report', \n",
    "                                                    'East Dunbartonshire Council')\n",
    "    df['Organisation'] = df['Organisation'].replace('ELC', 'East Lothian Council')\n",
    "    df['Organisation'] = df['Organisation'].replace('East Renfewshire Council', 'East Renfrewshire Council')\n",
    "    df['Organisation'] = df['Organisation'].replace('East Renfreshire Council', 'East Renfrewshire Council')\n",
    "    df['Organisation'] = df['Organisation'].replace('East Renfrewshire Council Nov', 'East Renfrewshire Council')\n",
    "    df['Organisation'] = df['Organisation'].replace('GCC', 'Glasgow City Council')\n",
    "    df['Organisation'] = df['Organisation'].replace('Highland', 'The Highland Council')\n",
    "    df['Organisation'] = df['Organisation'].replace('Highland Council', 'The Highland Council')\n",
    "    df['Organisation'] = df['Organisation'].replace('Inverclyde', 'Inverclyde Council')\n",
    "    df['Organisation'] = df['Organisation'].replace('Moray Council V2', 'Moray Council')\n",
    "    df['Organisation'] = df['Organisation'].replace('NAC', 'North Ayrshire Council')\n",
    "    df['Organisation'] = df['Organisation'].replace('NLC', 'North Lanarkshire Council')\n",
    "    df['Organisation'] = df['Organisation'].replace('NorthLanarkshireCouncilPublicBodiesClimateChangeDutiesAnnualReport2020.xlsx',\n",
    "                                                    'North Lanarkshire Council')\n",
    "    df['Organisation'] = df['Organisation'].replace('OIC', 'Orkney Islands Council')\n",
    "    df['Organisation'] = df['Organisation'].replace('Orkney Council', 'Orkney Islands Council')\n",
    "    df['Organisation'] = df['Organisation'].replace('Perth and Kinross Council', 'Perth & Kinross Council')\n",
    "    df['Organisation'] = df['Organisation'].replace('PKC', 'Perth & Kinross Council')\n",
    "    df['Organisation'] = df['Organisation'].replace('Renfrewshire', 'Renfrewshire Council')\n",
    "    df['Organisation'] = df['Organisation'].replace('SBC -', 'Scottish Borders Council')\n",
    "    df['Organisation'] = df['Organisation'].replace('Scottish Borders Council CC Report',\n",
    "                                                    'Scottish Borders Council')\n",
    "    df['Organisation'] = df['Organisation'].replace('SAC', 'South Ayrshire Council')\n",
    "    df['Organisation'] = df['Organisation'].replace('South Ayrshire Council Annual Public Bodies Climate Change Duties Report',\n",
    "                                                    'South Ayrshire Council')\n",
    "    df['Organisation'] = df['Organisation'].replace('SAC', 'South Ayrshire Council')\n",
    "    df['Organisation'] = df['Organisation'].replace('SLC', 'South Lanarkshire Council')\n",
    "    df['Organisation'] = df['Organisation'].replace('WDC', 'West Dunbartonshire Council')\n",
    "    df['Organisation'] = df['Organisation'].replace('West Dunbartonshire', 'West Dunbartonshire Council')\n",
    "    df['Organisation'] = df['Organisation'].replace('WLC', 'West Lothian Council')\n",
    "    df['Organisation'] = df['Organisation'].replace('West Lothian LA', 'West Lothian Council')\n",
    "    \n",
    "    return df"
   ]
  },
  {
   "cell_type": "code",
   "execution_count": 109,
   "id": "3d6edac4",
   "metadata": {},
   "outputs": [
    {
     "name": "stdout",
     "output_type": "stream",
     "text": [
      "/home/mtc/Documents/Code/highland_energy/ssn/Shetland Islands Council CCR 2017.xlsx\n",
      "/home/mtc/Documents/Code/highland_energy/ssn/East Dunbartonshire Council 2018.xlsx\n",
      "/home/mtc/Documents/Code/highland_energy/ssn/East Ayrshire Council CCR 2016.xlsx\n",
      "/home/mtc/Documents/Code/highland_energy/ssn/Inverclyde Council 2020.xlsx\n"
     ]
    },
    {
     "name": "stderr",
     "output_type": "stream",
     "text": [
      "/usr/lib/python3/dist-packages/openpyxl/worksheet/_reader.py:312: UserWarning: Data Validation extension is not supported and will be removed\n",
      "  warn(msg)\n",
      "/usr/lib/python3/dist-packages/openpyxl/worksheet/_reader.py:312: UserWarning: Data Validation extension is not supported and will be removed\n",
      "  warn(msg)\n"
     ]
    },
    {
     "name": "stdout",
     "output_type": "stream",
     "text": [
      "/home/mtc/Documents/Code/highland_energy/ssn/Dundee City Council CCR 2016.xlsx\n",
      "/home/mtc/Documents/Code/highland_energy/ssn/Argyll and Bute Council CCR 2016.xlsx\n",
      "/home/mtc/Documents/Code/highland_energy/ssn/Argyll and Bute Council 2020.xlsx\n"
     ]
    },
    {
     "name": "stderr",
     "output_type": "stream",
     "text": [
      "/usr/lib/python3/dist-packages/openpyxl/worksheet/_reader.py:312: UserWarning: Data Validation extension is not supported and will be removed\n",
      "  warn(msg)\n",
      "/usr/lib/python3/dist-packages/openpyxl/worksheet/_reader.py:312: UserWarning: Data Validation extension is not supported and will be removed\n",
      "  warn(msg)\n"
     ]
    },
    {
     "name": "stdout",
     "output_type": "stream",
     "text": [
      "/home/mtc/Documents/Code/highland_energy/ssn/Argyll and Bute Council CCR 2017.xlsx\n",
      "/home/mtc/Documents/Code/highland_energy/ssn/East Lothian Council CCR 2017.xlsx\n",
      "/home/mtc/Documents/Code/highland_energy/ssn/Fife Council CCR 2017.xlsx\n",
      "/home/mtc/Documents/Code/highland_energy/ssn/South Lanarkshire Council CCR 2017.xlsx\n",
      "/home/mtc/Documents/Code/highland_energy/ssn/Dumfries & Galloway council 2018.xlsx\n",
      "/home/mtc/Documents/Code/highland_energy/ssn/Comhairle nan Eilean Siar CCR 2016.xlsx\n",
      "/home/mtc/Documents/Code/highland_energy/ssn/Argyll and Bute Council 2018.xlsx\n",
      "/home/mtc/Documents/Code/highland_energy/ssn/South Lanarkshire Council 2019.xlsx\n",
      "/home/mtc/Documents/Code/highland_energy/ssn/Inverclyde Council 2018.xlsx\n",
      "/home/mtc/Documents/Code/highland_energy/ssn/West Dunbartonshire 2020.xlsx\n"
     ]
    },
    {
     "name": "stderr",
     "output_type": "stream",
     "text": [
      "/usr/lib/python3/dist-packages/openpyxl/worksheet/_reader.py:312: UserWarning: Data Validation extension is not supported and will be removed\n",
      "  warn(msg)\n",
      "/usr/lib/python3/dist-packages/openpyxl/worksheet/_reader.py:312: UserWarning: Data Validation extension is not supported and will be removed\n",
      "  warn(msg)\n"
     ]
    },
    {
     "name": "stdout",
     "output_type": "stream",
     "text": [
      "/home/mtc/Documents/Code/highland_energy/ssn/Inverclyde Council CCR 2017.xlsx\n",
      "/home/mtc/Documents/Code/highland_energy/ssn/Stirling Council 2019.xlsx\n",
      "/home/mtc/Documents/Code/highland_energy/ssn/Renfrewshire Council 2018.xlsx\n",
      "/home/mtc/Documents/Code/highland_energy/ssn/SBC - 2021.xlsx\n",
      "/home/mtc/Documents/Code/highland_energy/ssn/Moray Council CCR 2017.xlsx\n",
      "/home/mtc/Documents/Code/highland_energy/ssn/East Renfrewshire Council 2019.xlsx\n",
      "/home/mtc/Documents/Code/highland_energy/ssn/East Dunbartonshire Council CCR 2016.xlsx\n",
      "/home/mtc/Documents/Code/highland_energy/ssn/City of Edinburgh Council 2018.xlsx\n",
      "/home/mtc/Documents/Code/highland_energy/ssn/Falkirk Council 2021.xlsx\n"
     ]
    },
    {
     "name": "stderr",
     "output_type": "stream",
     "text": [
      "/usr/lib/python3/dist-packages/openpyxl/worksheet/_reader.py:312: UserWarning: Data Validation extension is not supported and will be removed\n",
      "  warn(msg)\n",
      "/usr/lib/python3/dist-packages/openpyxl/worksheet/_reader.py:312: UserWarning: Data Validation extension is not supported and will be removed\n",
      "  warn(msg)\n"
     ]
    },
    {
     "name": "stdout",
     "output_type": "stream",
     "text": [
      "/home/mtc/Documents/Code/highland_energy/ssn/Orkney Council CCR 2017.xlsx\n",
      "/home/mtc/Documents/Code/highland_energy/ssn/West Lothian Council 2019.xlsx\n",
      "/home/mtc/Documents/Code/highland_energy/ssn/ELC 2021.xlsx\n"
     ]
    },
    {
     "name": "stderr",
     "output_type": "stream",
     "text": [
      "/usr/lib/python3/dist-packages/openpyxl/worksheet/_reader.py:312: UserWarning: Data Validation extension is not supported and will be removed\n",
      "  warn(msg)\n",
      "/usr/lib/python3/dist-packages/openpyxl/worksheet/_reader.py:312: UserWarning: Data Validation extension is not supported and will be removed\n",
      "  warn(msg)\n"
     ]
    },
    {
     "name": "stdout",
     "output_type": "stream",
     "text": [
      "/home/mtc/Documents/Code/highland_energy/ssn/Orkney Islands Council 2018.xlsx\n",
      "/home/mtc/Documents/Code/highland_energy/ssn/Glasgow City Council 2018.xlsx\n",
      "/home/mtc/Documents/Code/highland_energy/ssn/East Ayrshire Council 2021.xlsx\n",
      "/home/mtc/Documents/Code/highland_energy/ssn/City of Edinburgh Council CCR 2017.xlsx\n",
      "/home/mtc/Documents/Code/highland_energy/ssn/East Ayrshire Council 2018.xlsx\n",
      "/home/mtc/Documents/Code/highland_energy/ssn/Aberdeen City Council 2018.xlsx\n",
      "/home/mtc/Documents/Code/highland_energy/ssn/Scottish Borders Council 2019.xlsx\n",
      "/home/mtc/Documents/Code/highland_energy/ssn/Midlothian Council 2018.xlsx\n",
      "/home/mtc/Documents/Code/highland_energy/ssn/Comhairlie nan Eilean Siar CCR 2017.xlsx\n",
      "/home/mtc/Documents/Code/highland_energy/ssn/South Ayrshire Council CCR 2016.xlsx\n",
      "/home/mtc/Documents/Code/highland_energy/ssn/Perth & Kinross Council 2020.xlsx\n"
     ]
    },
    {
     "name": "stderr",
     "output_type": "stream",
     "text": [
      "/usr/lib/python3/dist-packages/openpyxl/worksheet/_reader.py:312: UserWarning: Data Validation extension is not supported and will be removed\n",
      "  warn(msg)\n",
      "/usr/lib/python3/dist-packages/openpyxl/worksheet/_reader.py:312: UserWarning: Data Validation extension is not supported and will be removed\n",
      "  warn(msg)\n"
     ]
    },
    {
     "name": "stdout",
     "output_type": "stream",
     "text": [
      "/home/mtc/Documents/Code/highland_energy/ssn/The Highland Council CCR 2017.xlsx\n",
      "/home/mtc/Documents/Code/highland_energy/ssn/City of Edinburgh 2019.xlsx\n",
      "/home/mtc/Documents/Code/highland_energy/ssn/NLC 2021.xlsx\n"
     ]
    },
    {
     "name": "stderr",
     "output_type": "stream",
     "text": [
      "/usr/lib/python3/dist-packages/openpyxl/worksheet/_reader.py:312: UserWarning: Data Validation extension is not supported and will be removed\n",
      "  warn(msg)\n",
      "/usr/lib/python3/dist-packages/openpyxl/worksheet/_reader.py:312: UserWarning: Data Validation extension is not supported and will be removed\n",
      "  warn(msg)\n"
     ]
    },
    {
     "name": "stdout",
     "output_type": "stream",
     "text": [
      "/home/mtc/Documents/Code/highland_energy/ssn/Aberdeen City Council 2019 (3).xlsx\n",
      "/home/mtc/Documents/Code/highland_energy/ssn/Clackmannanshire Council 2019 (2).xlsx\n",
      "/home/mtc/Documents/Code/highland_energy/ssn/North Ayrshire Council 2019.xlsx\n",
      "/home/mtc/Documents/Code/highland_energy/ssn/WDC 2021.xlsx\n"
     ]
    },
    {
     "name": "stderr",
     "output_type": "stream",
     "text": [
      "/usr/lib/python3/dist-packages/openpyxl/worksheet/_reader.py:312: UserWarning: Data Validation extension is not supported and will be removed\n",
      "  warn(msg)\n",
      "/usr/lib/python3/dist-packages/openpyxl/worksheet/_reader.py:312: UserWarning: Data Validation extension is not supported and will be removed\n",
      "  warn(msg)\n"
     ]
    },
    {
     "name": "stdout",
     "output_type": "stream",
     "text": [
      "/home/mtc/Documents/Code/highland_energy/ssn/CCPBD City of Edinburgh Council 2020.xlsx\n"
     ]
    },
    {
     "name": "stderr",
     "output_type": "stream",
     "text": [
      "/usr/lib/python3/dist-packages/openpyxl/worksheet/_reader.py:312: UserWarning: Data Validation extension is not supported and will be removed\n",
      "  warn(msg)\n",
      "/usr/lib/python3/dist-packages/openpyxl/worksheet/_reader.py:312: UserWarning: Data Validation extension is not supported and will be removed\n",
      "  warn(msg)\n"
     ]
    },
    {
     "name": "stdout",
     "output_type": "stream",
     "text": [
      "/home/mtc/Documents/Code/highland_energy/ssn/Scottish Borders Council 2018.xlsx\n",
      "/home/mtc/Documents/Code/highland_energy/ssn/Renfrewshire Council 2020.xlsx\n"
     ]
    },
    {
     "name": "stderr",
     "output_type": "stream",
     "text": [
      "/usr/lib/python3/dist-packages/openpyxl/worksheet/_reader.py:312: UserWarning: Data Validation extension is not supported and will be removed\n",
      "  warn(msg)\n",
      "/usr/lib/python3/dist-packages/openpyxl/worksheet/_reader.py:312: UserWarning: Data Validation extension is not supported and will be removed\n",
      "  warn(msg)\n"
     ]
    },
    {
     "name": "stdout",
     "output_type": "stream",
     "text": [
      "/home/mtc/Documents/Code/highland_energy/ssn/Angus Council 2020.xlsx\n",
      "/home/mtc/Documents/Code/highland_energy/ssn/SAC 2021.xlsx\n"
     ]
    },
    {
     "name": "stderr",
     "output_type": "stream",
     "text": [
      "/usr/lib/python3/dist-packages/openpyxl/worksheet/_reader.py:312: UserWarning: Data Validation extension is not supported and will be removed\n",
      "  warn(msg)\n",
      "/usr/lib/python3/dist-packages/openpyxl/worksheet/_reader.py:312: UserWarning: Data Validation extension is not supported and will be removed\n",
      "  warn(msg)\n"
     ]
    },
    {
     "name": "stdout",
     "output_type": "stream",
     "text": [
      "/home/mtc/Documents/Code/highland_energy/ssn/Adeen City 2021.xlsx\n"
     ]
    },
    {
     "name": "stderr",
     "output_type": "stream",
     "text": [
      "/usr/lib/python3/dist-packages/openpyxl/worksheet/_reader.py:312: UserWarning: Data Validation extension is not supported and will be removed\n",
      "  warn(msg)\n",
      "/usr/lib/python3/dist-packages/openpyxl/worksheet/_reader.py:312: UserWarning: Data Validation extension is not supported and will be removed\n",
      "  warn(msg)\n"
     ]
    },
    {
     "name": "stdout",
     "output_type": "stream",
     "text": [
      "/home/mtc/Documents/Code/highland_energy/ssn/City of Edinburgh Council 2020-2021.xlsx\n"
     ]
    },
    {
     "name": "stderr",
     "output_type": "stream",
     "text": [
      "/usr/lib/python3/dist-packages/openpyxl/worksheet/_reader.py:312: UserWarning: Data Validation extension is not supported and will be removed\n",
      "  warn(msg)\n",
      "/usr/lib/python3/dist-packages/openpyxl/worksheet/_reader.py:312: UserWarning: Data Validation extension is not supported and will be removed\n",
      "  warn(msg)\n"
     ]
    },
    {
     "name": "stdout",
     "output_type": "stream",
     "text": [
      "/home/mtc/Documents/Code/highland_energy/ssn/Abshire 2021.xlsx\n"
     ]
    },
    {
     "name": "stderr",
     "output_type": "stream",
     "text": [
      "/usr/lib/python3/dist-packages/openpyxl/worksheet/_reader.py:312: UserWarning: Data Validation extension is not supported and will be removed\n",
      "  warn(msg)\n",
      "/usr/lib/python3/dist-packages/openpyxl/worksheet/_reader.py:312: UserWarning: Data Validation extension is not supported and will be removed\n",
      "  warn(msg)\n"
     ]
    },
    {
     "name": "stdout",
     "output_type": "stream",
     "text": [
      "/home/mtc/Documents/Code/highland_energy/ssn/East Lothian Council CCR 2016.xlsx\n",
      "/home/mtc/Documents/Code/highland_energy/ssn/Stirling Council 2021.xlsx\n"
     ]
    },
    {
     "name": "stderr",
     "output_type": "stream",
     "text": [
      "/usr/lib/python3/dist-packages/openpyxl/worksheet/_reader.py:312: UserWarning: Data Validation extension is not supported and will be removed\n",
      "  warn(msg)\n",
      "/usr/lib/python3/dist-packages/openpyxl/worksheet/_reader.py:312: UserWarning: Data Validation extension is not supported and will be removed\n",
      "  warn(msg)\n"
     ]
    },
    {
     "name": "stdout",
     "output_type": "stream",
     "text": [
      "/home/mtc/Documents/Code/highland_energy/ssn/Stirling Council 2020.xlsx\n"
     ]
    },
    {
     "name": "stderr",
     "output_type": "stream",
     "text": [
      "/usr/lib/python3/dist-packages/openpyxl/worksheet/_reader.py:312: UserWarning: Data Validation extension is not supported and will be removed\n",
      "  warn(msg)\n",
      "/usr/lib/python3/dist-packages/openpyxl/worksheet/_reader.py:312: UserWarning: Data Validation extension is not supported and will be removed\n",
      "  warn(msg)\n"
     ]
    },
    {
     "name": "stdout",
     "output_type": "stream",
     "text": [
      "/home/mtc/Documents/Code/highland_energy/ssn/Dundee City Council 2019.xlsx\n",
      "/home/mtc/Documents/Code/highland_energy/ssn/Angus Council 2018.xlsx\n",
      "/home/mtc/Documents/Code/highland_energy/ssn/South Lanarkshire Council 2018.xlsx\n",
      "/home/mtc/Documents/Code/highland_energy/ssn/Aberdeen City Council 2020 Climate Change Report Submission.xlsx\n",
      "/home/mtc/Documents/Code/highland_energy/ssn/Inverclyde 2021.xlsx\n"
     ]
    },
    {
     "name": "stderr",
     "output_type": "stream",
     "text": [
      "/usr/lib/python3/dist-packages/openpyxl/worksheet/_reader.py:312: UserWarning: Data Validation extension is not supported and will be removed\n",
      "  warn(msg)\n",
      "/usr/lib/python3/dist-packages/openpyxl/worksheet/_reader.py:312: UserWarning: Data Validation extension is not supported and will be removed\n",
      "  warn(msg)\n"
     ]
    },
    {
     "name": "stdout",
     "output_type": "stream",
     "text": [
      "/home/mtc/Documents/Code/highland_energy/ssn/City of Edinburgh Council CCR 2016.xlsx\n",
      "/home/mtc/Documents/Code/highland_energy/ssn/Falkirk Council 2018.xlsx\n",
      "/home/mtc/Documents/Code/highland_energy/ssn/Perth and Kinross Council 2019.xlsx\n",
      "/home/mtc/Documents/Code/highland_energy/ssn/West Lothian Council CCR 2016.xlsx\n",
      "/home/mtc/Documents/Code/highland_energy/ssn/Argyll and Bute Council 2021.xlsx\n"
     ]
    },
    {
     "name": "stderr",
     "output_type": "stream",
     "text": [
      "/usr/lib/python3/dist-packages/openpyxl/worksheet/_reader.py:312: UserWarning: Data Validation extension is not supported and will be removed\n",
      "  warn(msg)\n",
      "/usr/lib/python3/dist-packages/openpyxl/worksheet/_reader.py:312: UserWarning: Data Validation extension is not supported and will be removed\n",
      "  warn(msg)\n"
     ]
    },
    {
     "name": "stdout",
     "output_type": "stream",
     "text": [
      "/home/mtc/Documents/Code/highland_energy/ssn/Stirling Council CCR 2017.xlsx\n",
      "/home/mtc/Documents/Code/highland_energy/ssn/South Lanarkshire Council CCR 2016.xlsx\n",
      "/home/mtc/Documents/Code/highland_energy/ssn/Stirling Council 2018.xlsx\n",
      "/home/mtc/Documents/Code/highland_energy/ssn/Moray Council 2018.xlsx\n",
      "/home/mtc/Documents/Code/highland_energy/ssn/North Ayrshire Council CCR 2017.xlsx\n",
      "/home/mtc/Documents/Code/highland_energy/ssn/Falkirk Council 2019.xlsx\n",
      "/home/mtc/Documents/Code/highland_energy/ssn/NAC 2021.xlsx\n",
      "/home/mtc/Documents/Code/highland_energy/ssn/Aberdeen City Council CCR 2017.xlsx\n",
      "/home/mtc/Documents/Code/highland_energy/ssn/Dundee City Council Public 2020.xlsx\n"
     ]
    },
    {
     "name": "stderr",
     "output_type": "stream",
     "text": [
      "/usr/lib/python3/dist-packages/openpyxl/worksheet/_reader.py:312: UserWarning: Data Validation extension is not supported and will be removed\n",
      "  warn(msg)\n",
      "/usr/lib/python3/dist-packages/openpyxl/worksheet/_reader.py:312: UserWarning: Data Validation extension is not supported and will be removed\n",
      "  warn(msg)\n"
     ]
    },
    {
     "name": "stdout",
     "output_type": "stream",
     "text": [
      "/home/mtc/Documents/Code/highland_energy/ssn/Midlothian Council CCR 2017.xlsx\n",
      "/home/mtc/Documents/Code/highland_energy/ssn/Glasgow City Council CCR 2016.xlsx\n",
      "/home/mtc/Documents/Code/highland_energy/ssn/South Lanarkshire Council 2020.xlsx\n"
     ]
    },
    {
     "name": "stderr",
     "output_type": "stream",
     "text": [
      "/usr/lib/python3/dist-packages/openpyxl/worksheet/_reader.py:312: UserWarning: Data Validation extension is not supported and will be removed\n",
      "  warn(msg)\n",
      "/usr/lib/python3/dist-packages/openpyxl/worksheet/_reader.py:312: UserWarning: Data Validation extension is not supported and will be removed\n",
      "  warn(msg)\n"
     ]
    },
    {
     "name": "stdout",
     "output_type": "stream",
     "text": [
      "/home/mtc/Documents/Code/highland_energy/ssn/Dundee City council 2018.xlsx\n",
      "/home/mtc/Documents/Code/highland_energy/ssn/Aberdeenshire Council - Climate Change Duties annual report 2020.xlsx\n"
     ]
    },
    {
     "name": "stderr",
     "output_type": "stream",
     "text": [
      "/usr/lib/python3/dist-packages/openpyxl/worksheet/_reader.py:312: UserWarning: Data Validation extension is not supported and will be removed\n",
      "  warn(msg)\n",
      "/usr/lib/python3/dist-packages/openpyxl/worksheet/_reader.py:312: UserWarning: Data Validation extension is not supported and will be removed\n",
      "  warn(msg)\n"
     ]
    },
    {
     "name": "stdout",
     "output_type": "stream",
     "text": [
      "/home/mtc/Documents/Code/highland_energy/ssn/Clackmannanshire Council CCR 2016.xlsx\n",
      "/home/mtc/Documents/Code/highland_energy/ssn/Moray Council 2021.xlsx\n"
     ]
    },
    {
     "name": "stderr",
     "output_type": "stream",
     "text": [
      "/usr/lib/python3/dist-packages/openpyxl/worksheet/_reader.py:312: UserWarning: Data Validation extension is not supported and will be removed\n",
      "  warn(msg)\n",
      "/usr/lib/python3/dist-packages/openpyxl/worksheet/_reader.py:312: UserWarning: Data Validation extension is not supported and will be removed\n",
      "  warn(msg)\n"
     ]
    },
    {
     "name": "stdout",
     "output_type": "stream",
     "text": [
      "/home/mtc/Documents/Code/highland_energy/ssn/Moray Council V2 2019.xlsx\n",
      "/home/mtc/Documents/Code/highland_energy/ssn/Fife Council 2019 (2).xlsx\n",
      "/home/mtc/Documents/Code/highland_energy/ssn/North Ayrshire Council 2018.xlsx\n",
      "/home/mtc/Documents/Code/highland_energy/ssn/Dumfries and Galloway Council CCR 2016.xlsx\n",
      "/home/mtc/Documents/Code/highland_energy/ssn/South Ayrshire Council CCR 2017.xlsx\n",
      "/home/mtc/Documents/Code/highland_energy/ssn/Aberdeen City Council CCR 2016.xlsx\n",
      "/home/mtc/Documents/Code/highland_energy/ssn/North Lanarkshire Council 2019.xlsx\n",
      "/home/mtc/Documents/Code/highland_energy/ssn/Renfrewshire Council CCR 2016.xlsx\n",
      "/home/mtc/Documents/Code/highland_energy/ssn/Clacks 2020.21.xlsx\n"
     ]
    },
    {
     "name": "stderr",
     "output_type": "stream",
     "text": [
      "/usr/lib/python3/dist-packages/openpyxl/worksheet/_reader.py:312: UserWarning: Data Validation extension is not supported and will be removed\n",
      "  warn(msg)\n",
      "/usr/lib/python3/dist-packages/openpyxl/worksheet/_reader.py:312: UserWarning: Data Validation extension is not supported and will be removed\n",
      "  warn(msg)\n"
     ]
    },
    {
     "name": "stdout",
     "output_type": "stream",
     "text": [
      "/home/mtc/Documents/Code/highland_energy/ssn/OIC 2021.xlsx\n"
     ]
    },
    {
     "name": "stderr",
     "output_type": "stream",
     "text": [
      "/usr/lib/python3/dist-packages/openpyxl/worksheet/_reader.py:312: UserWarning: Data Validation extension is not supported and will be removed\n",
      "  warn(msg)\n",
      "/usr/lib/python3/dist-packages/openpyxl/worksheet/_reader.py:312: UserWarning: Data Validation extension is not supported and will be removed\n",
      "  warn(msg)\n"
     ]
    },
    {
     "name": "stdout",
     "output_type": "stream",
     "text": [
      "/home/mtc/Documents/Code/highland_energy/ssn/Inverclyde Council CCR 2016.xlsx\n",
      "/home/mtc/Documents/Code/highland_energy/ssn/Orkney Council 2019.xlsx\n",
      "/home/mtc/Documents/Code/highland_energy/ssn/East Ayrshire Council 2020.xlsx\n",
      "/home/mtc/Documents/Code/highland_energy/ssn/Fife Council 2021.xlsx\n"
     ]
    },
    {
     "name": "stderr",
     "output_type": "stream",
     "text": [
      "/usr/lib/python3/dist-packages/openpyxl/worksheet/_reader.py:312: UserWarning: Data Validation extension is not supported and will be removed\n",
      "  warn(msg)\n",
      "/usr/lib/python3/dist-packages/openpyxl/worksheet/_reader.py:312: UserWarning: Data Validation extension is not supported and will be removed\n",
      "  warn(msg)\n"
     ]
    },
    {
     "name": "stdout",
     "output_type": "stream",
     "text": [
      "/home/mtc/Documents/Code/highland_energy/ssn/Falkirk Council CCR 2017.xlsx\n",
      "/home/mtc/Documents/Code/highland_energy/ssn/East Ayrshire Council CCR 2017.xlsx\n",
      "/home/mtc/Documents/Code/highland_energy/ssn/East Dunbartonshire Council CCR 2017.xlsx\n",
      "/home/mtc/Documents/Code/highland_energy/ssn/East Ayrshire Council 2019.xlsx\n",
      "/home/mtc/Documents/Code/highland_energy/ssn/Dundee City Council CCR 2017.xlsx\n",
      "/home/mtc/Documents/Code/highland_energy/ssn/West Lothian LA 2018.xlsx\n",
      "/home/mtc/Documents/Code/highland_energy/ssn/Clackmannanshire Council CCR 2017.xlsx\n",
      "/home/mtc/Documents/Code/highland_energy/ssn/Shetland Islands Council 2018.xlsx\n",
      "/home/mtc/Documents/Code/highland_energy/ssn/NorthLanarkshireCouncilPublicBodiesClimateChangeDutiesAnnualReport2020.xlsx\n"
     ]
    },
    {
     "name": "stderr",
     "output_type": "stream",
     "text": [
      "/usr/lib/python3/dist-packages/openpyxl/worksheet/_reader.py:312: UserWarning: Data Validation extension is not supported and will be removed\n",
      "  warn(msg)\n",
      "/usr/lib/python3/dist-packages/openpyxl/worksheet/_reader.py:312: UserWarning: Data Validation extension is not supported and will be removed\n",
      "  warn(msg)\n"
     ]
    },
    {
     "name": "stdout",
     "output_type": "stream",
     "text": [
      "/home/mtc/Documents/Code/highland_energy/ssn/EDC 2021.xlsx\n"
     ]
    },
    {
     "name": "stderr",
     "output_type": "stream",
     "text": [
      "/usr/lib/python3/dist-packages/openpyxl/worksheet/_reader.py:312: UserWarning: Data Validation extension is not supported and will be removed\n",
      "  warn(msg)\n",
      "/usr/lib/python3/dist-packages/openpyxl/worksheet/_reader.py:312: UserWarning: Data Validation extension is not supported and will be removed\n",
      "  warn(msg)\n"
     ]
    },
    {
     "name": "stdout",
     "output_type": "stream",
     "text": [
      "/home/mtc/Documents/Code/highland_energy/ssn/Falkirk Council CCR 2016.xlsx\n",
      "/home/mtc/Documents/Code/highland_energy/ssn/Scottish Borders Council CCR 2017.xlsx\n",
      "/home/mtc/Documents/Code/highland_energy/ssn/Dundee 2021.xlsx\n"
     ]
    },
    {
     "name": "stderr",
     "output_type": "stream",
     "text": [
      "/usr/lib/python3/dist-packages/openpyxl/worksheet/_reader.py:312: UserWarning: Data Validation extension is not supported and will be removed\n",
      "  warn(msg)\n",
      "/usr/lib/python3/dist-packages/openpyxl/worksheet/_reader.py:312: UserWarning: Data Validation extension is not supported and will be removed\n",
      "  warn(msg)\n"
     ]
    },
    {
     "name": "stdout",
     "output_type": "stream",
     "text": [
      "/home/mtc/Documents/Code/highland_energy/ssn/East Renfreshire Council 2020.xlsx\n"
     ]
    },
    {
     "name": "stderr",
     "output_type": "stream",
     "text": [
      "/usr/lib/python3/dist-packages/openpyxl/worksheet/_reader.py:312: UserWarning: Data Validation extension is not supported and will be removed\n",
      "  warn(msg)\n",
      "/usr/lib/python3/dist-packages/openpyxl/worksheet/_reader.py:312: UserWarning: Data Validation extension is not supported and will be removed\n",
      "  warn(msg)\n"
     ]
    },
    {
     "name": "stdout",
     "output_type": "stream",
     "text": [
      "/home/mtc/Documents/Code/highland_energy/ssn/West Dunbartonshire Council CCR 2017.xlsx\n",
      "/home/mtc/Documents/Code/highland_energy/ssn/Renfrewshire 2021.xlsx\n"
     ]
    },
    {
     "name": "stderr",
     "output_type": "stream",
     "text": [
      "/usr/lib/python3/dist-packages/openpyxl/worksheet/_reader.py:312: UserWarning: Data Validation extension is not supported and will be removed\n",
      "  warn(msg)\n",
      "/usr/lib/python3/dist-packages/openpyxl/worksheet/_reader.py:312: UserWarning: Data Validation extension is not supported and will be removed\n",
      "  warn(msg)\n"
     ]
    },
    {
     "name": "stdout",
     "output_type": "stream",
     "text": [
      "/home/mtc/Documents/Code/highland_energy/ssn/Highland 2021.xlsx\n"
     ]
    },
    {
     "name": "stderr",
     "output_type": "stream",
     "text": [
      "/usr/lib/python3/dist-packages/openpyxl/worksheet/_reader.py:312: UserWarning: Data Validation extension is not supported and will be removed\n",
      "  warn(msg)\n",
      "/usr/lib/python3/dist-packages/openpyxl/worksheet/_reader.py:312: UserWarning: Data Validation extension is not supported and will be removed\n",
      "  warn(msg)\n"
     ]
    },
    {
     "name": "stdout",
     "output_type": "stream",
     "text": [
      "/home/mtc/Documents/Code/highland_energy/ssn/Comhairle nan Eilean Siar 2019.xlsx\n",
      "/home/mtc/Documents/Code/highland_energy/ssn/East Lothian Council 2020.xlsx\n"
     ]
    },
    {
     "name": "stderr",
     "output_type": "stream",
     "text": [
      "/usr/lib/python3/dist-packages/openpyxl/worksheet/_reader.py:312: UserWarning: Data Validation extension is not supported and will be removed\n",
      "  warn(msg)\n",
      "/usr/lib/python3/dist-packages/openpyxl/worksheet/_reader.py:312: UserWarning: Data Validation extension is not supported and will be removed\n",
      "  warn(msg)\n"
     ]
    },
    {
     "name": "stdout",
     "output_type": "stream",
     "text": [
      "/home/mtc/Documents/Code/highland_energy/ssn/Shetland Islands Council 2021 Final.xlsx\n"
     ]
    },
    {
     "name": "stderr",
     "output_type": "stream",
     "text": [
      "/usr/lib/python3/dist-packages/openpyxl/worksheet/_reader.py:312: UserWarning: Data Validation extension is not supported and will be removed\n",
      "  warn(msg)\n",
      "/usr/lib/python3/dist-packages/openpyxl/worksheet/_reader.py:312: UserWarning: Data Validation extension is not supported and will be removed\n",
      "  warn(msg)\n"
     ]
    },
    {
     "name": "stdout",
     "output_type": "stream",
     "text": [
      "/home/mtc/Documents/Code/highland_energy/ssn/Glasgow City Council 2019.xlsx\n",
      "/home/mtc/Documents/Code/highland_energy/ssn/North Lanarkshire Council 2018.xlsx\n",
      "/home/mtc/Documents/Code/highland_energy/ssn/Perth and Kinross Council CCR 2016.xlsx\n",
      "/home/mtc/Documents/Code/highland_energy/ssn/Shetland Islands Council CCR 2016.xlsx\n",
      "/home/mtc/Documents/Code/highland_energy/ssn/Fife Council 2018.xlsx\n",
      "/home/mtc/Documents/Code/highland_energy/ssn/West Dunbartonshire Council 2018.xlsx\n",
      "/home/mtc/Documents/Code/highland_energy/ssn/North Lanarkshire Council CCR 2017.xlsx\n",
      "/home/mtc/Documents/Code/highland_energy/ssn/East Dunbartonshire Council 2019.xlsx\n",
      "/home/mtc/Documents/Code/highland_energy/ssn/East Dunbartonshire Council Report 2020 (Excel).xlsx\n"
     ]
    },
    {
     "name": "stderr",
     "output_type": "stream",
     "text": [
      "/usr/lib/python3/dist-packages/openpyxl/worksheet/_reader.py:312: UserWarning: Data Validation extension is not supported and will be removed\n",
      "  warn(msg)\n",
      "/usr/lib/python3/dist-packages/openpyxl/worksheet/_reader.py:312: UserWarning: Data Validation extension is not supported and will be removed\n",
      "  warn(msg)\n"
     ]
    },
    {
     "name": "stdout",
     "output_type": "stream",
     "text": [
      "/home/mtc/Documents/Code/highland_energy/ssn/South Ayrshire Council 2019.xlsx\n",
      "/home/mtc/Documents/Code/highland_energy/ssn/Highland Council CCR 2016.xlsx\n",
      "/home/mtc/Documents/Code/highland_energy/ssn/Aberdeenshire Council 2019.xlsx\n",
      "/home/mtc/Documents/Code/highland_energy/ssn/East Renfrewshire Council CCR 2017.xlsx\n",
      "/home/mtc/Documents/Code/highland_energy/ssn/West Dunbartonshire Council CCR 2016.xlsx\n",
      "/home/mtc/Documents/Code/highland_energy/ssn/PKC 2021.xlsx\n"
     ]
    },
    {
     "name": "stderr",
     "output_type": "stream",
     "text": [
      "/usr/lib/python3/dist-packages/openpyxl/worksheet/_reader.py:312: UserWarning: Data Validation extension is not supported and will be removed\n",
      "  warn(msg)\n",
      "/usr/lib/python3/dist-packages/openpyxl/worksheet/_reader.py:312: UserWarning: Data Validation extension is not supported and will be removed\n",
      "  warn(msg)\n"
     ]
    },
    {
     "name": "stdout",
     "output_type": "stream",
     "text": [
      "/home/mtc/Documents/Code/highland_energy/ssn/Angus Council 2021.xlsx\n"
     ]
    },
    {
     "name": "stderr",
     "output_type": "stream",
     "text": [
      "/usr/lib/python3/dist-packages/openpyxl/worksheet/_reader.py:312: UserWarning: Data Validation extension is not supported and will be removed\n",
      "  warn(msg)\n",
      "/usr/lib/python3/dist-packages/openpyxl/worksheet/_reader.py:312: UserWarning: Data Validation extension is not supported and will be removed\n",
      "  warn(msg)\n"
     ]
    },
    {
     "name": "stdout",
     "output_type": "stream",
     "text": [
      "/home/mtc/Documents/Code/highland_energy/ssn/South Ayrshire Council 2018.xlsx\n",
      "/home/mtc/Documents/Code/highland_energy/ssn/Moray Council 2020.xlsx\n"
     ]
    },
    {
     "name": "stderr",
     "output_type": "stream",
     "text": [
      "/usr/lib/python3/dist-packages/openpyxl/worksheet/_reader.py:312: UserWarning: Data Validation extension is not supported and will be removed\n",
      "  warn(msg)\n",
      "/usr/lib/python3/dist-packages/openpyxl/worksheet/_reader.py:312: UserWarning: Data Validation extension is not supported and will be removed\n",
      "  warn(msg)\n"
     ]
    },
    {
     "name": "stdout",
     "output_type": "stream",
     "text": [
      "/home/mtc/Documents/Code/highland_energy/ssn/Dumfries and Galloway Council 2019.xlsx\n",
      "/home/mtc/Documents/Code/highland_energy/ssn/Comhairle nan Eilean Siar 2018.xlsx\n",
      "/home/mtc/Documents/Code/highland_energy/ssn/East Renfrewshire Council Nov 2021.xlsx\n"
     ]
    },
    {
     "name": "stderr",
     "output_type": "stream",
     "text": [
      "/usr/lib/python3/dist-packages/openpyxl/worksheet/_reader.py:312: UserWarning: Data Validation extension is not supported and will be removed\n",
      "  warn(msg)\n",
      "/usr/lib/python3/dist-packages/openpyxl/worksheet/_reader.py:312: UserWarning: Data Validation extension is not supported and will be removed\n",
      "  warn(msg)\n"
     ]
    },
    {
     "name": "stdout",
     "output_type": "stream",
     "text": [
      "/home/mtc/Documents/Code/highland_energy/ssn/Angus Council 2019.xlsx\n",
      "/home/mtc/Documents/Code/highland_energy/ssn/Comhairle nan Eilean Siar 2020.xlsx\n",
      "/home/mtc/Documents/Code/highland_energy/ssn/East Renfrewshire Council 2018.xlsx\n",
      "/home/mtc/Documents/Code/highland_energy/ssn/Midlothian Council CCR 2016.xlsx\n",
      "/home/mtc/Documents/Code/highland_energy/ssn/Aberdeenshire Council CCR 2016.xlsx\n",
      "/home/mtc/Documents/Code/highland_energy/ssn/Moray Council CCR 2016.xlsx\n",
      "/home/mtc/Documents/Code/highland_energy/ssn/The Highland Council 2018.xlsx\n",
      "/home/mtc/Documents/Code/highland_energy/ssn/Shetland Islands Council 2020.xlsx\n"
     ]
    },
    {
     "name": "stderr",
     "output_type": "stream",
     "text": [
      "/usr/lib/python3/dist-packages/openpyxl/worksheet/_reader.py:312: UserWarning: Data Validation extension is not supported and will be removed\n",
      "  warn(msg)\n",
      "/usr/lib/python3/dist-packages/openpyxl/worksheet/_reader.py:312: UserWarning: Data Validation extension is not supported and will be removed\n",
      "  warn(msg)\n"
     ]
    },
    {
     "name": "stdout",
     "output_type": "stream",
     "text": [
      "/home/mtc/Documents/Code/highland_energy/ssn/Midlothian Council 2019.xlsx\n",
      "/home/mtc/Documents/Code/highland_energy/ssn/Inverclyde Council 2019.xlsx\n",
      "/home/mtc/Documents/Code/highland_energy/ssn/Fife Council CCR 2016.xlsx\n",
      "/home/mtc/Documents/Code/highland_energy/ssn/Orkney Islands Council CCR 2016.xlsx\n",
      "/home/mtc/Documents/Code/highland_energy/ssn/West Dunbartonshire Council 2019.xlsx\n",
      "/home/mtc/Documents/Code/highland_energy/ssn/Orkney Islands Council 2020.xlsx\n",
      "/home/mtc/Documents/Code/highland_energy/ssn/WLC 2021.xlsx\n"
     ]
    },
    {
     "name": "stderr",
     "output_type": "stream",
     "text": [
      "/usr/lib/python3/dist-packages/openpyxl/worksheet/_reader.py:312: UserWarning: Data Validation extension is not supported and will be removed\n",
      "  warn(msg)\n",
      "/usr/lib/python3/dist-packages/openpyxl/worksheet/_reader.py:312: UserWarning: Data Validation extension is not supported and will be removed\n",
      "  warn(msg)\n"
     ]
    },
    {
     "name": "stdout",
     "output_type": "stream",
     "text": [
      "/home/mtc/Documents/Code/highland_energy/ssn/North Ayrshire Council CCR 2016.xlsx\n",
      "/home/mtc/Documents/Code/highland_energy/ssn/Shetland Islands Council 2019.xlsx\n",
      "/home/mtc/Documents/Code/highland_energy/ssn/Stirling Council CCR 2016.xlsx\n",
      "/home/mtc/Documents/Code/highland_energy/ssn/Angus Council CCR 2016.xlsx\n",
      "/home/mtc/Documents/Code/highland_energy/ssn/Aberdeenshire Council 2018.xlsx\n",
      "/home/mtc/Documents/Code/highland_energy/ssn/Perth and Kinross Council 2018.xlsx\n",
      "/home/mtc/Documents/Code/highland_energy/ssn/Scottish Borders Council CCR 2016.xlsx\n",
      "/home/mtc/Documents/Code/highland_energy/ssn/GCC 2021.xlsx\n"
     ]
    },
    {
     "name": "stderr",
     "output_type": "stream",
     "text": [
      "/usr/lib/python3/dist-packages/openpyxl/worksheet/_reader.py:312: UserWarning: Data Validation extension is not supported and will be removed\n",
      "  warn(msg)\n",
      "/usr/lib/python3/dist-packages/openpyxl/worksheet/_reader.py:312: UserWarning: Data Validation extension is not supported and will be removed\n",
      "  warn(msg)\n"
     ]
    },
    {
     "name": "stdout",
     "output_type": "stream",
     "text": [
      "/home/mtc/Documents/Code/highland_energy/ssn/Glasgow City Council CCR 2017.xlsx\n",
      "/home/mtc/Documents/Code/highland_energy/ssn/North Ayrshire Council 2020.xlsx\n"
     ]
    },
    {
     "name": "stderr",
     "output_type": "stream",
     "text": [
      "/usr/lib/python3/dist-packages/openpyxl/worksheet/_reader.py:312: UserWarning: Data Validation extension is not supported and will be removed\n",
      "  warn(msg)\n",
      "/usr/lib/python3/dist-packages/openpyxl/worksheet/_reader.py:312: UserWarning: Data Validation extension is not supported and will be removed\n",
      "  warn(msg)\n"
     ]
    },
    {
     "name": "stdout",
     "output_type": "stream",
     "text": [
      "/home/mtc/Documents/Code/highland_energy/ssn/East Lothian Council 2018.xlsx\n",
      "/home/mtc/Documents/Code/highland_energy/ssn/Clackmananshire Council 2018.xlsx\n",
      "/home/mtc/Documents/Code/highland_energy/ssn/South Ayrshire Council Annual Public Bodies Climate Change Duties Report 2019 2020.xlsx\n"
     ]
    },
    {
     "name": "stderr",
     "output_type": "stream",
     "text": [
      "/usr/lib/python3/dist-packages/openpyxl/worksheet/_reader.py:312: UserWarning: Data Validation extension is not supported and will be removed\n",
      "  warn(msg)\n",
      "/usr/lib/python3/dist-packages/openpyxl/worksheet/_reader.py:312: UserWarning: Data Validation extension is not supported and will be removed\n",
      "  warn(msg)\n"
     ]
    },
    {
     "name": "stdout",
     "output_type": "stream",
     "text": [
      "/home/mtc/Documents/Code/highland_energy/ssn/SLC 2021.xlsx\n"
     ]
    },
    {
     "name": "stderr",
     "output_type": "stream",
     "text": [
      "/usr/lib/python3/dist-packages/openpyxl/worksheet/_reader.py:312: UserWarning: Data Validation extension is not supported and will be removed\n",
      "  warn(msg)\n",
      "/usr/lib/python3/dist-packages/openpyxl/worksheet/_reader.py:312: UserWarning: Data Validation extension is not supported and will be removed\n",
      "  warn(msg)\n"
     ]
    },
    {
     "name": "stdout",
     "output_type": "stream",
     "text": [
      "/home/mtc/Documents/Code/highland_energy/ssn/East Renfewshire Council CCR 2016.xlsx\n",
      "/home/mtc/Documents/Code/highland_energy/ssn/Scottish Borders Council CC Report 2020.xlsx\n",
      "/home/mtc/Documents/Code/highland_energy/ssn/West Lothian Council CCR 2017.xlsx\n",
      "/home/mtc/Documents/Code/highland_energy/ssn/Renfrewshire Council CCR 2017.xlsx\n",
      "/home/mtc/Documents/Code/highland_energy/ssn/Perth and Kinross Council CCR 2017.xlsx\n",
      "/home/mtc/Documents/Code/highland_energy/ssn/Highland Council 2019 (2).xlsx\n",
      "/home/mtc/Documents/Code/highland_energy/ssn/Midlothian Council 2021.xlsx\n"
     ]
    },
    {
     "name": "stderr",
     "output_type": "stream",
     "text": [
      "/usr/lib/python3/dist-packages/openpyxl/worksheet/_reader.py:312: UserWarning: Data Validation extension is not supported and will be removed\n",
      "  warn(msg)\n",
      "/usr/lib/python3/dist-packages/openpyxl/worksheet/_reader.py:312: UserWarning: Data Validation extension is not supported and will be removed\n",
      "  warn(msg)\n"
     ]
    },
    {
     "name": "stdout",
     "output_type": "stream",
     "text": [
      "/home/mtc/Documents/Code/highland_energy/ssn/North Lanarkshire Council CCR 2016.xlsx\n",
      "/home/mtc/Documents/Code/highland_energy/ssn/CNES W.Isles 2021.xlsx\n"
     ]
    },
    {
     "name": "stderr",
     "output_type": "stream",
     "text": [
      "/usr/lib/python3/dist-packages/openpyxl/worksheet/_reader.py:312: UserWarning: Data Validation extension is not supported and will be removed\n",
      "  warn(msg)\n",
      "/usr/lib/python3/dist-packages/openpyxl/worksheet/_reader.py:312: UserWarning: Data Validation extension is not supported and will be removed\n",
      "  warn(msg)\n"
     ]
    },
    {
     "name": "stdout",
     "output_type": "stream",
     "text": [
      "/home/mtc/Documents/Code/highland_energy/ssn/Angus Council CCR 2017.xlsx\n",
      "/home/mtc/Documents/Code/highland_energy/ssn/Dumfries and Galloway Council CCR 2017.xlsx\n",
      "/home/mtc/Documents/Code/highland_energy/ssn/Aberdeenshire Council CCR 2017.xlsx\n",
      "/home/mtc/Documents/Code/highland_energy/ssn/Argyll and Bute Council 2019.xlsx\n",
      "/home/mtc/Documents/Code/highland_energy/ssn/Renfrewshire Council 2019.xlsx\n",
      "/home/mtc/Documents/Code/highland_energy/ssn/East Lothian Council 2019.xlsx\n"
     ]
    }
   ],
   "source": [
    "# use glob to get all the csv files in the folder\n",
    "path = '/home/mtc/Documents/Code/highland_energy/ssn'\n",
    "xlsx_files = glob.glob(os.path.join(path, \"*.xlsx\"))\n",
    "\n",
    "# Create list for all dfs\n",
    "frames = []\n",
    "\n",
    "for f in xlsx_files:\n",
    "    \n",
    "    print(f)\n",
    "    \n",
    "    # Store organisation and year in variables\n",
    "    org, year = find_details(f)\n",
    "    \n",
    "    # Get df from sheet\n",
    "    df = get_sheet(f)\n",
    "    \n",
    "    # Look for NaN values in Emission source column\n",
    "    null_index = df.loc[pd.isna(df[\"Emission source\"]), :].index\n",
    "    \n",
    "    # Create a list\n",
    "    ls = []\n",
    "    \n",
    "    # Loop through 5 values to make a list of step sizes in null_index\n",
    "    for i in range(5):\n",
    "        ls.append(null_index[i + 1] - null_index[i])\n",
    "        \n",
    "    # Define cut off\n",
    "    cut_off = null_index[0 + ls.index(1)]\n",
    "\n",
    "    # Drop All Rows After First Occurrence of two NaNs in a row\n",
    "    df = df[:cut_off]\n",
    "    \n",
    "    # Add Columns with year and org\n",
    "    # Subtract 1 from year as 2020 report is for 2019 etc.\n",
    "    df['Year'] = int(year) - 1\n",
    "    df['Organisation'] = org\n",
    "    \n",
    "    frames.append(df)"
   ]
  },
  {
   "cell_type": "code",
   "execution_count": 110,
   "id": "9ab32be9",
   "metadata": {},
   "outputs": [
    {
     "data": {
      "text/html": [
       "<div>\n",
       "<style scoped>\n",
       "    .dataframe tbody tr th:only-of-type {\n",
       "        vertical-align: middle;\n",
       "    }\n",
       "\n",
       "    .dataframe tbody tr th {\n",
       "        vertical-align: top;\n",
       "    }\n",
       "\n",
       "    .dataframe thead th {\n",
       "        text-align: right;\n",
       "    }\n",
       "</style>\n",
       "<table border=\"1\" class=\"dataframe\">\n",
       "  <thead>\n",
       "    <tr style=\"text-align: right;\">\n",
       "      <th></th>\n",
       "      <th>Emission source</th>\n",
       "      <th>Scope</th>\n",
       "      <th>Consumption data</th>\n",
       "      <th>Units</th>\n",
       "      <th>Emission factor</th>\n",
       "      <th>Units.1</th>\n",
       "      <th>Emissions (tCO2e)</th>\n",
       "      <th>Comments</th>\n",
       "      <th>Year</th>\n",
       "      <th>Organisation</th>\n",
       "    </tr>\n",
       "  </thead>\n",
       "  <tbody>\n",
       "    <tr>\n",
       "      <th>0</th>\n",
       "      <td>Refuse Commercial &amp;amp; Industrial to Landfill</td>\n",
       "      <td>Scope 3</td>\n",
       "      <td>3394.50</td>\n",
       "      <td>tonnes</td>\n",
       "      <td>99.7729</td>\n",
       "      <td>kg CO2e/tonne</td>\n",
       "      <td>338.68</td>\n",
       "      <td>NaN</td>\n",
       "      <td>2018</td>\n",
       "      <td>East Lothian Council</td>\n",
       "    </tr>\n",
       "    <tr>\n",
       "      <th>1</th>\n",
       "      <td>Refuse Municipal /Commercial /Industrial to Co...</td>\n",
       "      <td>Scope 3</td>\n",
       "      <td>139.36</td>\n",
       "      <td>tonnes</td>\n",
       "      <td>21.3842</td>\n",
       "      <td>kg CO2e/tonne</td>\n",
       "      <td>2.98</td>\n",
       "      <td>NaN</td>\n",
       "      <td>2018</td>\n",
       "      <td>East Lothian Council</td>\n",
       "    </tr>\n",
       "    <tr>\n",
       "      <th>2</th>\n",
       "      <td>Mixed recycling</td>\n",
       "      <td>Scope 3</td>\n",
       "      <td>18675.00</td>\n",
       "      <td>tonnes</td>\n",
       "      <td>21.3842</td>\n",
       "      <td>kg CO2e/tonne</td>\n",
       "      <td>399.35</td>\n",
       "      <td>NaN</td>\n",
       "      <td>2018</td>\n",
       "      <td>East Lothian Council</td>\n",
       "    </tr>\n",
       "    <tr>\n",
       "      <th>3</th>\n",
       "      <td>Organic Garden Waste Composting</td>\n",
       "      <td>Scope 3</td>\n",
       "      <td>8817.30</td>\n",
       "      <td>tonnes</td>\n",
       "      <td>10.2586</td>\n",
       "      <td>kg CO2e/tonne</td>\n",
       "      <td>90.45</td>\n",
       "      <td>NaN</td>\n",
       "      <td>2018</td>\n",
       "      <td>East Lothian Council</td>\n",
       "    </tr>\n",
       "    <tr>\n",
       "      <th>4</th>\n",
       "      <td>Organic Food &amp;amp; Drink AD</td>\n",
       "      <td>Scope 3</td>\n",
       "      <td>2878.20</td>\n",
       "      <td>tonnes</td>\n",
       "      <td>21.3842</td>\n",
       "      <td>kg CO2e/tonne</td>\n",
       "      <td>61.55</td>\n",
       "      <td>NaN</td>\n",
       "      <td>2018</td>\n",
       "      <td>East Lothian Council</td>\n",
       "    </tr>\n",
       "  </tbody>\n",
       "</table>\n",
       "</div>"
      ],
      "text/plain": [
       "                                     Emission source    Scope  \\\n",
       "0     Refuse Commercial &amp; Industrial to Landfill  Scope 3   \n",
       "1  Refuse Municipal /Commercial /Industrial to Co...  Scope 3   \n",
       "2                                    Mixed recycling  Scope 3   \n",
       "3                    Organic Garden Waste Composting  Scope 3   \n",
       "4                        Organic Food &amp; Drink AD  Scope 3   \n",
       "\n",
       "   Consumption data   Units  Emission factor        Units.1  \\\n",
       "0           3394.50  tonnes          99.7729  kg CO2e/tonne   \n",
       "1            139.36  tonnes          21.3842  kg CO2e/tonne   \n",
       "2          18675.00  tonnes          21.3842  kg CO2e/tonne   \n",
       "3           8817.30  tonnes          10.2586  kg CO2e/tonne   \n",
       "4           2878.20  tonnes          21.3842  kg CO2e/tonne   \n",
       "\n",
       "   Emissions (tCO2e)  Comments  Year          Organisation  \n",
       "0             338.68       NaN  2018  East Lothian Council  \n",
       "1               2.98       NaN  2018  East Lothian Council  \n",
       "2             399.35       NaN  2018  East Lothian Council  \n",
       "3              90.45       NaN  2018  East Lothian Council  \n",
       "4              61.55       NaN  2018  East Lothian Council  "
      ]
     },
     "execution_count": 110,
     "metadata": {},
     "output_type": "execute_result"
    }
   ],
   "source": [
    "df.head()"
   ]
  },
  {
   "cell_type": "code",
   "execution_count": 111,
   "id": "46ecf39f",
   "metadata": {},
   "outputs": [
    {
     "data": {
      "text/html": [
       "<div>\n",
       "<style scoped>\n",
       "    .dataframe tbody tr th:only-of-type {\n",
       "        vertical-align: middle;\n",
       "    }\n",
       "\n",
       "    .dataframe tbody tr th {\n",
       "        vertical-align: top;\n",
       "    }\n",
       "\n",
       "    .dataframe thead th {\n",
       "        text-align: right;\n",
       "    }\n",
       "</style>\n",
       "<table border=\"1\" class=\"dataframe\">\n",
       "  <thead>\n",
       "    <tr style=\"text-align: right;\">\n",
       "      <th></th>\n",
       "      <th>Emission source</th>\n",
       "      <th>Scope</th>\n",
       "      <th>Consumption data</th>\n",
       "      <th>Units</th>\n",
       "      <th>Emission factor</th>\n",
       "      <th>Units.1</th>\n",
       "      <th>Emissions (tCO2e)</th>\n",
       "      <th>Comments</th>\n",
       "      <th>Year</th>\n",
       "      <th>Organisation</th>\n",
       "    </tr>\n",
       "  </thead>\n",
       "  <tbody>\n",
       "    <tr>\n",
       "      <th>0</th>\n",
       "      <td>Grid Electricity (generation)</td>\n",
       "      <td>Scope 2</td>\n",
       "      <td>16811530.0</td>\n",
       "      <td>kWh</td>\n",
       "      <td>0.41205</td>\n",
       "      <td>kg CO2e/kWh</td>\n",
       "      <td>6927.19</td>\n",
       "      <td>NaN</td>\n",
       "      <td>2016</td>\n",
       "      <td>Shetland Islands Council</td>\n",
       "    </tr>\n",
       "    <tr>\n",
       "      <th>1</th>\n",
       "      <td>Grid Electricity (transmission &amp; distribution ...</td>\n",
       "      <td>Scope 3</td>\n",
       "      <td>16811530.0</td>\n",
       "      <td>kWh</td>\n",
       "      <td>0.03727</td>\n",
       "      <td>kg CO2e/kWh</td>\n",
       "      <td>626.57</td>\n",
       "      <td>NaN</td>\n",
       "      <td>2016</td>\n",
       "      <td>Shetland Islands Council</td>\n",
       "    </tr>\n",
       "    <tr>\n",
       "      <th>2</th>\n",
       "      <td>Gas Oil</td>\n",
       "      <td>Scope 1</td>\n",
       "      <td>5750072.0</td>\n",
       "      <td>litres</td>\n",
       "      <td>2.965718</td>\n",
       "      <td>kg CO2e/litre</td>\n",
       "      <td>17053.09</td>\n",
       "      <td>NaN</td>\n",
       "      <td>2016</td>\n",
       "      <td>Shetland Islands Council</td>\n",
       "    </tr>\n",
       "    <tr>\n",
       "      <th>3</th>\n",
       "      <td>Burning Oil (Kerosene)</td>\n",
       "      <td>Scope 1</td>\n",
       "      <td>190251.0</td>\n",
       "      <td>litres</td>\n",
       "      <td>2.532319</td>\n",
       "      <td>kg CO2e/litre</td>\n",
       "      <td>481.78</td>\n",
       "      <td>NaN</td>\n",
       "      <td>2016</td>\n",
       "      <td>Shetland Islands Council</td>\n",
       "    </tr>\n",
       "    <tr>\n",
       "      <th>4</th>\n",
       "      <td>Diesel (Average biofuel blend)</td>\n",
       "      <td>Scope 1</td>\n",
       "      <td>528973.0</td>\n",
       "      <td>litres</td>\n",
       "      <td>2.611625</td>\n",
       "      <td>kg CO2e/litre</td>\n",
       "      <td>1381.48</td>\n",
       "      <td>NaN</td>\n",
       "      <td>2016</td>\n",
       "      <td>Shetland Islands Council</td>\n",
       "    </tr>\n",
       "  </tbody>\n",
       "</table>\n",
       "</div>"
      ],
      "text/plain": [
       "                                     Emission source    Scope  \\\n",
       "0                      Grid Electricity (generation)  Scope 2   \n",
       "1  Grid Electricity (transmission & distribution ...  Scope 3   \n",
       "2                                            Gas Oil  Scope 1   \n",
       "3                             Burning Oil (Kerosene)  Scope 1   \n",
       "4                     Diesel (Average biofuel blend)  Scope 1   \n",
       "\n",
       "  Consumption data   Units Emission factor        Units.1  Emissions (tCO2e)  \\\n",
       "0       16811530.0     kWh         0.41205    kg CO2e/kWh            6927.19   \n",
       "1       16811530.0     kWh         0.03727    kg CO2e/kWh             626.57   \n",
       "2        5750072.0  litres        2.965718  kg CO2e/litre           17053.09   \n",
       "3         190251.0  litres        2.532319  kg CO2e/litre             481.78   \n",
       "4         528973.0  litres        2.611625  kg CO2e/litre            1381.48   \n",
       "\n",
       "  Comments  Year              Organisation  \n",
       "0      NaN  2016  Shetland Islands Council  \n",
       "1      NaN  2016  Shetland Islands Council  \n",
       "2      NaN  2016  Shetland Islands Council  \n",
       "3      NaN  2016  Shetland Islands Council  \n",
       "4      NaN  2016  Shetland Islands Council  "
      ]
     },
     "execution_count": 111,
     "metadata": {},
     "output_type": "execute_result"
    }
   ],
   "source": [
    "# Concat frames together\n",
    "dft = pd.concat(frames)\n",
    "\n",
    "# Sort formatting\n",
    "dft = sort_names_end(dft)\n",
    "\n",
    "# Drop rows with more than 6 valid data cells\n",
    "dft = dft.dropna(thresh = 6)\n",
    "\n",
    "# Strip whitepace from Units\n",
    "dft['Units'] = dft['Units'].str.strip()\n",
    "\n",
    "dft.to_csv('ssn_energy_total_summary_long.csv')\n",
    "\n",
    "dft.head()"
   ]
  },
  {
   "cell_type": "code",
   "execution_count": 112,
   "id": "6fa246fe",
   "metadata": {},
   "outputs": [],
   "source": [
    "#dft['Emission source'].value_counts().index.tolist()"
   ]
  },
  {
   "cell_type": "code",
   "execution_count": 113,
   "id": "eeacfa6b",
   "metadata": {},
   "outputs": [],
   "source": [
    "#dft['Organisation'].value_counts()\n",
    "#dft[(dft['Organisation'] == 'East Dunbartonshire Council') & (dft['Year'] == 2020)]"
   ]
  },
  {
   "cell_type": "markdown",
   "id": "6d052c8c",
   "metadata": {},
   "source": [
    "## Simplifying categorys and convert units to kWh"
   ]
  },
  {
   "cell_type": "code",
   "execution_count": 114,
   "id": "c208ecf4",
   "metadata": {},
   "outputs": [
    {
     "data": {
      "text/html": [
       "<div>\n",
       "<style scoped>\n",
       "    .dataframe tbody tr th:only-of-type {\n",
       "        vertical-align: middle;\n",
       "    }\n",
       "\n",
       "    .dataframe tbody tr th {\n",
       "        vertical-align: top;\n",
       "    }\n",
       "\n",
       "    .dataframe thead th {\n",
       "        text-align: right;\n",
       "    }\n",
       "</style>\n",
       "<table border=\"1\" class=\"dataframe\">\n",
       "  <thead>\n",
       "    <tr style=\"text-align: right;\">\n",
       "      <th></th>\n",
       "      <th>Emission source</th>\n",
       "      <th>Scope</th>\n",
       "      <th>Consumption data</th>\n",
       "      <th>Units</th>\n",
       "      <th>Emission factor</th>\n",
       "      <th>Units.1</th>\n",
       "      <th>Emissions (tCO2e)</th>\n",
       "      <th>Comments</th>\n",
       "      <th>Year</th>\n",
       "      <th>Organisation</th>\n",
       "    </tr>\n",
       "  </thead>\n",
       "  <tbody>\n",
       "    <tr>\n",
       "      <th>0</th>\n",
       "      <td>Grid Electricity (generation)</td>\n",
       "      <td>Scope 2</td>\n",
       "      <td>16811530.0</td>\n",
       "      <td>kWh</td>\n",
       "      <td>0.41205</td>\n",
       "      <td>kg CO2e/kWh</td>\n",
       "      <td>6927.19</td>\n",
       "      <td>NaN</td>\n",
       "      <td>2016</td>\n",
       "      <td>Shetland Islands Council</td>\n",
       "    </tr>\n",
       "    <tr>\n",
       "      <th>1</th>\n",
       "      <td>Grid Electricity (transmission &amp; distribution ...</td>\n",
       "      <td>Scope 3</td>\n",
       "      <td>16811530.0</td>\n",
       "      <td>kWh</td>\n",
       "      <td>0.03727</td>\n",
       "      <td>kg CO2e/kWh</td>\n",
       "      <td>626.57</td>\n",
       "      <td>NaN</td>\n",
       "      <td>2016</td>\n",
       "      <td>Shetland Islands Council</td>\n",
       "    </tr>\n",
       "    <tr>\n",
       "      <th>2</th>\n",
       "      <td>Oil</td>\n",
       "      <td>Scope 1</td>\n",
       "      <td>5750072.0</td>\n",
       "      <td>litres</td>\n",
       "      <td>2.965718</td>\n",
       "      <td>kg CO2e/litre</td>\n",
       "      <td>17053.09</td>\n",
       "      <td>NaN</td>\n",
       "      <td>2016</td>\n",
       "      <td>Shetland Islands Council</td>\n",
       "    </tr>\n",
       "    <tr>\n",
       "      <th>3</th>\n",
       "      <td>Oil</td>\n",
       "      <td>Scope 1</td>\n",
       "      <td>190251.0</td>\n",
       "      <td>litres</td>\n",
       "      <td>2.532319</td>\n",
       "      <td>kg CO2e/litre</td>\n",
       "      <td>481.78</td>\n",
       "      <td>NaN</td>\n",
       "      <td>2016</td>\n",
       "      <td>Shetland Islands Council</td>\n",
       "    </tr>\n",
       "    <tr>\n",
       "      <th>4</th>\n",
       "      <td>Diesel</td>\n",
       "      <td>Scope 1</td>\n",
       "      <td>528973.0</td>\n",
       "      <td>litres</td>\n",
       "      <td>2.611625</td>\n",
       "      <td>kg CO2e/litre</td>\n",
       "      <td>1381.48</td>\n",
       "      <td>NaN</td>\n",
       "      <td>2016</td>\n",
       "      <td>Shetland Islands Council</td>\n",
       "    </tr>\n",
       "  </tbody>\n",
       "</table>\n",
       "</div>"
      ],
      "text/plain": [
       "                                     Emission source    Scope  \\\n",
       "0                      Grid Electricity (generation)  Scope 2   \n",
       "1  Grid Electricity (transmission & distribution ...  Scope 3   \n",
       "2                                                Oil  Scope 1   \n",
       "3                                                Oil  Scope 1   \n",
       "4                                             Diesel  Scope 1   \n",
       "\n",
       "  Consumption data   Units Emission factor        Units.1  Emissions (tCO2e)  \\\n",
       "0       16811530.0     kWh         0.41205    kg CO2e/kWh            6927.19   \n",
       "1       16811530.0     kWh         0.03727    kg CO2e/kWh             626.57   \n",
       "2        5750072.0  litres        2.965718  kg CO2e/litre           17053.09   \n",
       "3         190251.0  litres        2.532319  kg CO2e/litre             481.78   \n",
       "4         528973.0  litres        2.611625  kg CO2e/litre            1381.48   \n",
       "\n",
       "  Comments  Year              Organisation  \n",
       "0      NaN  2016  Shetland Islands Council  \n",
       "1      NaN  2016  Shetland Islands Council  \n",
       "2      NaN  2016  Shetland Islands Council  \n",
       "3      NaN  2016  Shetland Islands Council  \n",
       "4      NaN  2016  Shetland Islands Council  "
      ]
     },
     "execution_count": 114,
     "metadata": {},
     "output_type": "execute_result"
    }
   ],
   "source": [
    "# Make a copy of main df\n",
    "dfk = dft.copy()\n",
    "\n",
    "# Simplify names of Emission sources\n",
    "dfk['Emission source'] = np.where(dfk['Emission source'].str.contains('Car', case = False\n",
    "                                                                     ), 'Car', dfk['Emission source'])\n",
    "dfk['Emission source'] = np.where(dfk['Emission source'].str.contains('HGV', case = False\n",
    "                                                                     ), 'Lorry', dfk['Emission source'])\n",
    "dfk['Emission source'] = np.where(dfk['Emission source'].str.contains('Van', case = False\n",
    "                                                                     ), 'Van', dfk['Emission source'])\n",
    "dfk['Emission source'] = np.where(dfk['Emission source'].str.contains('Ferry', case = False\n",
    "                                                                     ), 'Ferry', dfk['Emission source'])\n",
    "dfk['Emission source'] = np.where(dfk['Emission source'].str.contains('Flight', case = False\n",
    "                                                                     ), 'Aeroplane', dfk['Emission source'])\n",
    "dfk['Emission source'] = np.where(dfk['Emission source'].str.contains('Rail', case = False\n",
    "                                                                     ), 'Rail', dfk['Emission source'])\n",
    "dfk['Emission source'] = np.where(dfk['Emission source'].str.contains('Bus|Coach', case = False\n",
    "                                                                     ), 'Bus', dfk['Emission source'])\n",
    "dfk['Emission source'] = np.where(dfk['Emission source'].str.contains('Taxi', case = False\n",
    "                                                                     ), 'Taxi', dfk['Emission source'])\n",
    "\n",
    "\n",
    "dfk['Emission source'] = np.where(dfk['Emission source'].str.contains('Biomass', case = False\n",
    "                                                                     ), 'Biomass', dfk['Emission source'])\n",
    "dfk['Emission source'] = np.where(dfk['Emission source'].str.contains('Kerosene|Gas Oil|Fuel Oil', case = False\n",
    "                                                                     ), 'Oil', dfk['Emission source'])\n",
    "dfk['Emission source'] = np.where(dfk['Emission source'].str.contains('Renewable', case = False\n",
    "                                                                     ), 'Renewables', dfk['Emission source'])\n",
    "\n",
    "\n",
    "dfk['Emission source'] = np.where(dfk['Emission source'].str.contains('Landfill', case = False\n",
    "                                                                     ), 'Landfill', dfk['Emission source'])\n",
    "dfk['Emission source'] = np.where(dfk['Emission source'].str.contains('Recycling', case = False\n",
    "                                                                     ), 'Recycling', dfk['Emission source'])\n",
    "dfk['Emission source'] = np.where(dfk['Emission source'].str.contains('Composting|Organic', case = False\n",
    "                                                                     ), 'Composting', dfk['Emission source'])\n",
    "\n",
    "\n",
    "dfk['Emission source'] = np.where(dfk['Emission source'].str.contains('Diesel', case = False\n",
    "                                                                     ), 'Diesel', dfk['Emission source'])\n",
    "dfk['Emission source'] = np.where(dfk['Emission source'].str.contains('Petrol', case = False\n",
    "                                                                     ), 'Petrol', dfk['Emission source'])\n",
    "\n",
    "\n",
    "dfk['Emission source'] = np.where(dfk['Emission source'].str.contains('Water', case = False\n",
    "                                                                     ), 'Water', dfk['Emission source'])\n",
    "\n",
    "dfk.head()"
   ]
  },
  {
   "cell_type": "code",
   "execution_count": 115,
   "id": "ca4d668c",
   "metadata": {},
   "outputs": [
    {
     "data": {
      "text/html": [
       "<div>\n",
       "<style scoped>\n",
       "    .dataframe tbody tr th:only-of-type {\n",
       "        vertical-align: middle;\n",
       "    }\n",
       "\n",
       "    .dataframe tbody tr th {\n",
       "        vertical-align: top;\n",
       "    }\n",
       "\n",
       "    .dataframe thead th {\n",
       "        text-align: right;\n",
       "    }\n",
       "</style>\n",
       "<table border=\"1\" class=\"dataframe\">\n",
       "  <thead>\n",
       "    <tr style=\"text-align: right;\">\n",
       "      <th></th>\n",
       "      <th>Emission source</th>\n",
       "      <th>Scope</th>\n",
       "      <th>Consumption data</th>\n",
       "      <th>Units</th>\n",
       "      <th>Emission factor</th>\n",
       "      <th>Units.1</th>\n",
       "      <th>Emissions (tCO2e)</th>\n",
       "      <th>Comments</th>\n",
       "      <th>Year</th>\n",
       "      <th>Organisation</th>\n",
       "      <th>Consumption data kWh</th>\n",
       "    </tr>\n",
       "  </thead>\n",
       "  <tbody>\n",
       "    <tr>\n",
       "      <th>0</th>\n",
       "      <td>Grid Electricity (generation)</td>\n",
       "      <td>Scope 2</td>\n",
       "      <td>16811530.0</td>\n",
       "      <td>kWh</td>\n",
       "      <td>0.41205</td>\n",
       "      <td>kg CO2e/kWh</td>\n",
       "      <td>6927.19</td>\n",
       "      <td>NaN</td>\n",
       "      <td>2016</td>\n",
       "      <td>Shetland Islands Council</td>\n",
       "      <td>16811530.0</td>\n",
       "    </tr>\n",
       "    <tr>\n",
       "      <th>1</th>\n",
       "      <td>Grid Electricity (transmission &amp; distribution ...</td>\n",
       "      <td>Scope 3</td>\n",
       "      <td>16811530.0</td>\n",
       "      <td>kWh</td>\n",
       "      <td>0.03727</td>\n",
       "      <td>kg CO2e/kWh</td>\n",
       "      <td>626.57</td>\n",
       "      <td>NaN</td>\n",
       "      <td>2016</td>\n",
       "      <td>Shetland Islands Council</td>\n",
       "      <td>16811530.0</td>\n",
       "    </tr>\n",
       "    <tr>\n",
       "      <th>2</th>\n",
       "      <td>Oil</td>\n",
       "      <td>Scope 1</td>\n",
       "      <td>5750072.0</td>\n",
       "      <td>litres</td>\n",
       "      <td>2.965718</td>\n",
       "      <td>kg CO2e/litre</td>\n",
       "      <td>17053.09</td>\n",
       "      <td>NaN</td>\n",
       "      <td>2016</td>\n",
       "      <td>Shetland Islands Council</td>\n",
       "      <td>57500720.0</td>\n",
       "    </tr>\n",
       "    <tr>\n",
       "      <th>3</th>\n",
       "      <td>Oil</td>\n",
       "      <td>Scope 1</td>\n",
       "      <td>190251.0</td>\n",
       "      <td>litres</td>\n",
       "      <td>2.532319</td>\n",
       "      <td>kg CO2e/litre</td>\n",
       "      <td>481.78</td>\n",
       "      <td>NaN</td>\n",
       "      <td>2016</td>\n",
       "      <td>Shetland Islands Council</td>\n",
       "      <td>1902510.0</td>\n",
       "    </tr>\n",
       "    <tr>\n",
       "      <th>4</th>\n",
       "      <td>Diesel</td>\n",
       "      <td>Scope 1</td>\n",
       "      <td>528973.0</td>\n",
       "      <td>litres</td>\n",
       "      <td>2.611625</td>\n",
       "      <td>kg CO2e/litre</td>\n",
       "      <td>1381.48</td>\n",
       "      <td>NaN</td>\n",
       "      <td>2016</td>\n",
       "      <td>Shetland Islands Council</td>\n",
       "      <td>5289730.0</td>\n",
       "    </tr>\n",
       "  </tbody>\n",
       "</table>\n",
       "</div>"
      ],
      "text/plain": [
       "                                     Emission source    Scope  \\\n",
       "0                      Grid Electricity (generation)  Scope 2   \n",
       "1  Grid Electricity (transmission & distribution ...  Scope 3   \n",
       "2                                                Oil  Scope 1   \n",
       "3                                                Oil  Scope 1   \n",
       "4                                             Diesel  Scope 1   \n",
       "\n",
       "  Consumption data   Units Emission factor        Units.1  Emissions (tCO2e)  \\\n",
       "0       16811530.0     kWh         0.41205    kg CO2e/kWh            6927.19   \n",
       "1       16811530.0     kWh         0.03727    kg CO2e/kWh             626.57   \n",
       "2        5750072.0  litres        2.965718  kg CO2e/litre           17053.09   \n",
       "3         190251.0  litres        2.532319  kg CO2e/litre             481.78   \n",
       "4         528973.0  litres        2.611625  kg CO2e/litre            1381.48   \n",
       "\n",
       "  Comments  Year              Organisation  Consumption data kWh  \n",
       "0      NaN  2016  Shetland Islands Council            16811530.0  \n",
       "1      NaN  2016  Shetland Islands Council            16811530.0  \n",
       "2      NaN  2016  Shetland Islands Council            57500720.0  \n",
       "3      NaN  2016  Shetland Islands Council             1902510.0  \n",
       "4      NaN  2016  Shetland Islands Council             5289730.0  "
      ]
     },
     "execution_count": 115,
     "metadata": {},
     "output_type": "execute_result"
    }
   ],
   "source": [
    "# Create lists to help with conservions\n",
    "asources = ['Car', 'Bus', 'Bus', 'Rail', 'Lorry', 'Van', 'Taxi', 'Ferry', \n",
    "               'Oil', 'Diesel', 'Petrol', 'LPG', 'Biomass']\n",
    "\n",
    "# Transport sources\n",
    "tsources = ['Car', 'Bus', 'Bus', 'Rail', 'Lorry', 'Van', 'Taxi', 'Ferry']\n",
    "# Other sources\n",
    "osources = ['Oil', 'Diesel', 'Petrol', 'LPG', 'Biomass']\n",
    "\n",
    "# Distance units\n",
    "dunits = ['km', 'passenger km', 'miles']\n",
    "\n",
    "# Transport Energy Use Figures from Sustainable Energy Without Hot Air p141\n",
    "# Car - 68 kWh per 100 passenger-km\n",
    "# Rail - 6 kWh per 100 passenger-km\n",
    "# Bus - 19 kWh per 100 passenger-km\n",
    "# Air - 51 kWh per 100 passenger-km\n",
    "# Sea - 57 kWh per 100 passenger-km\n",
    "#  Overall transport efficiencies of transport modes in Japan (1999).\n",
    "\n",
    "# Function to convert into kWh\n",
    "def calc_kWh(row):\n",
    "    \n",
    "    # If units already kWh its easy\n",
    "    if row['Units'] == 'kWh':\n",
    "        \n",
    "        return row['Consumption data']\n",
    "    \n",
    "    if row['Units'] != 'kWh':\n",
    "        \n",
    "        # Check known source\n",
    "        if row['Emission source'] in asources:\n",
    "            \n",
    "            # If a transport source\n",
    "            if row['Emission source'] in tsources:\n",
    "    \n",
    "                # Create diction with kWh per 100 passenger-km\n",
    "                kWhkm = {'Car':68, 'Rail':6, 'Bus':19, 'Air':51, 'Ferry': 57, 'Lorry':68, 'Van':68, 'Taxi':68}\n",
    "                \n",
    "                # If known units convert into 100 passenger-km, then kWh\n",
    "                if row['Units'] in dunits:\n",
    "                \n",
    "                    if row['Units'] == 'km':\n",
    "\n",
    "                        # Calculate number of 100 passenger-km (assume average car occupancy of 1.5)\n",
    "                        pkm100 = row['Consumption data'] / 100 / 1.5\n",
    "\n",
    "                    if row['Units'] == 'passenger km':\n",
    "\n",
    "                        # Calculate number of 100 passenger-km\n",
    "                        pkm100 = row['Consumption data'] / 100\n",
    "\n",
    "                    if row['Units'] == 'miles':\n",
    "\n",
    "                        # Calculate number of 100 passenger-km\n",
    "                        pkm100 = row['Consumption data'] * 1.6 / 100 / 1.5\n",
    "                        \n",
    "                    # Output kWh\n",
    "                    return kWhkm[row['Emission source']] * pkm100\n",
    "                        \n",
    "                else:\n",
    "                    \n",
    "                    # Unrecognised units\n",
    "                    return np.nan\n",
    "                \n",
    "            # If a other source convert litres into kWh\n",
    "            if row['Emission source'] in osources:\n",
    "                \n",
    "                # kWh per litre\n",
    "                kWhl = {'Oil':10, 'Diesel':10, 'Petrol':10, 'LPG':10, 'Biomass':10}\n",
    "                \n",
    "                return kWhl[row['Emission source']] * row['Consumption data']\n",
    "\n",
    "        else:\n",
    "            # Unrecognised source\n",
    "            return np.nan\n",
    "\n",
    "# Run function on each row\n",
    "dfk['Consumption data kWh'] = dfk.apply(lambda row: calc_kWh(row), axis = 1)\n",
    "\n",
    "dfk.head()"
   ]
  },
  {
   "cell_type": "code",
   "execution_count": 116,
   "id": "c7e805e8",
   "metadata": {},
   "outputs": [],
   "source": [
    "dfk.to_csv('ssn_energy_total_summary_long_kwh.csv')"
   ]
  },
  {
   "cell_type": "code",
   "execution_count": 107,
   "id": "11c3796e",
   "metadata": {},
   "outputs": [],
   "source": [
    "# #dfnk = dfk[dfk['Units'] != 'kWh']\n",
    "# dfnk = dfk[dfk['Emission source'].isin(tsources)]\n",
    "\n",
    "# #dfnk['Emission source'].value_counts()\n",
    "# dfnk['Units'].value_counts()"
   ]
  },
  {
   "cell_type": "code",
   "execution_count": null,
   "id": "0960c89d",
   "metadata": {},
   "outputs": [],
   "source": []
  },
  {
   "cell_type": "code",
   "execution_count": null,
   "id": "22c1cd05",
   "metadata": {},
   "outputs": [],
   "source": []
  },
  {
   "cell_type": "code",
   "execution_count": null,
   "id": "75034029",
   "metadata": {},
   "outputs": [],
   "source": []
  }
 ],
 "metadata": {
  "kernelspec": {
   "display_name": "Python 3 (ipykernel)",
   "language": "python",
   "name": "python3"
  },
  "language_info": {
   "codemirror_mode": {
    "name": "ipython",
    "version": 3
   },
   "file_extension": ".py",
   "mimetype": "text/x-python",
   "name": "python",
   "nbconvert_exporter": "python",
   "pygments_lexer": "ipython3",
   "version": "3.10.7"
  }
 },
 "nbformat": 4,
 "nbformat_minor": 5
}
